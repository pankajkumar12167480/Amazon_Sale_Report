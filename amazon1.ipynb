{
 "cells": [
  {
   "cell_type": "code",
   "execution_count": 1,
   "id": "53bb1d4c-5614-4fce-8262-77eff250bbcb",
   "metadata": {},
   "outputs": [],
   "source": [
    "import pandas as pd \n",
    "import numpy as np \n",
    "import seaborn as sns\n",
    "import matplotlib.pyplot as plt"
   ]
  },
  {
   "cell_type": "code",
   "execution_count": 2,
   "id": "c51a0d0d-5a67-426b-b358-3b6174d36001",
   "metadata": {},
   "outputs": [],
   "source": [
    "ama = pd.read_csv('Amazon Sale Report.csv')"
   ]
  },
  {
   "cell_type": "code",
   "execution_count": 3,
   "id": "17aad445-24a5-4186-a8e8-eb7a39bba1b2",
   "metadata": {},
   "outputs": [
    {
     "data": {
      "text/html": [
       "<div>\n",
       "<style scoped>\n",
       "    .dataframe tbody tr th:only-of-type {\n",
       "        vertical-align: middle;\n",
       "    }\n",
       "\n",
       "    .dataframe tbody tr th {\n",
       "        vertical-align: top;\n",
       "    }\n",
       "\n",
       "    .dataframe thead th {\n",
       "        text-align: right;\n",
       "    }\n",
       "</style>\n",
       "<table border=\"1\" class=\"dataframe\">\n",
       "  <thead>\n",
       "    <tr style=\"text-align: right;\">\n",
       "      <th></th>\n",
       "      <th>index</th>\n",
       "      <th>Order ID</th>\n",
       "      <th>Date</th>\n",
       "      <th>Status</th>\n",
       "      <th>Fulfilment</th>\n",
       "      <th>Sales Channel</th>\n",
       "      <th>ship-service-level</th>\n",
       "      <th>Category</th>\n",
       "      <th>Size</th>\n",
       "      <th>Courier Status</th>\n",
       "      <th>...</th>\n",
       "      <th>currency</th>\n",
       "      <th>Amount</th>\n",
       "      <th>ship-city</th>\n",
       "      <th>ship-state</th>\n",
       "      <th>ship-postal-code</th>\n",
       "      <th>ship-country</th>\n",
       "      <th>B2B</th>\n",
       "      <th>fulfilled-by</th>\n",
       "      <th>New</th>\n",
       "      <th>PendingS</th>\n",
       "    </tr>\n",
       "  </thead>\n",
       "  <tbody>\n",
       "    <tr>\n",
       "      <th>0</th>\n",
       "      <td>0</td>\n",
       "      <td>405-8078784-5731545</td>\n",
       "      <td>04-30-22</td>\n",
       "      <td>Cancelled</td>\n",
       "      <td>Merchant</td>\n",
       "      <td>Amazon.in</td>\n",
       "      <td>Standard</td>\n",
       "      <td>T-shirt</td>\n",
       "      <td>S</td>\n",
       "      <td>On the Way</td>\n",
       "      <td>...</td>\n",
       "      <td>INR</td>\n",
       "      <td>647.62</td>\n",
       "      <td>MUMBAI</td>\n",
       "      <td>MAHARASHTRA</td>\n",
       "      <td>400081.0</td>\n",
       "      <td>IN</td>\n",
       "      <td>False</td>\n",
       "      <td>Easy Ship</td>\n",
       "      <td>NaN</td>\n",
       "      <td>NaN</td>\n",
       "    </tr>\n",
       "    <tr>\n",
       "      <th>1</th>\n",
       "      <td>1</td>\n",
       "      <td>171-9198151-1101146</td>\n",
       "      <td>04-30-22</td>\n",
       "      <td>Shipped - Delivered to Buyer</td>\n",
       "      <td>Merchant</td>\n",
       "      <td>Amazon.in</td>\n",
       "      <td>Standard</td>\n",
       "      <td>Shirt</td>\n",
       "      <td>3XL</td>\n",
       "      <td>Shipped</td>\n",
       "      <td>...</td>\n",
       "      <td>INR</td>\n",
       "      <td>406.00</td>\n",
       "      <td>BENGALURU</td>\n",
       "      <td>KARNATAKA</td>\n",
       "      <td>560085.0</td>\n",
       "      <td>IN</td>\n",
       "      <td>False</td>\n",
       "      <td>Easy Ship</td>\n",
       "      <td>NaN</td>\n",
       "      <td>NaN</td>\n",
       "    </tr>\n",
       "    <tr>\n",
       "      <th>2</th>\n",
       "      <td>2</td>\n",
       "      <td>404-0687676-7273146</td>\n",
       "      <td>04-30-22</td>\n",
       "      <td>Shipped</td>\n",
       "      <td>Amazon</td>\n",
       "      <td>Amazon.in</td>\n",
       "      <td>Expedited</td>\n",
       "      <td>Shirt</td>\n",
       "      <td>XL</td>\n",
       "      <td>Shipped</td>\n",
       "      <td>...</td>\n",
       "      <td>INR</td>\n",
       "      <td>329.00</td>\n",
       "      <td>NAVI MUMBAI</td>\n",
       "      <td>MAHARASHTRA</td>\n",
       "      <td>410210.0</td>\n",
       "      <td>IN</td>\n",
       "      <td>True</td>\n",
       "      <td>NaN</td>\n",
       "      <td>NaN</td>\n",
       "      <td>NaN</td>\n",
       "    </tr>\n",
       "    <tr>\n",
       "      <th>3</th>\n",
       "      <td>3</td>\n",
       "      <td>403-9615377-8133951</td>\n",
       "      <td>04-30-22</td>\n",
       "      <td>Cancelled</td>\n",
       "      <td>Merchant</td>\n",
       "      <td>Amazon.in</td>\n",
       "      <td>Standard</td>\n",
       "      <td>Blazzer</td>\n",
       "      <td>L</td>\n",
       "      <td>On the Way</td>\n",
       "      <td>...</td>\n",
       "      <td>INR</td>\n",
       "      <td>753.33</td>\n",
       "      <td>PUDUCHERRY</td>\n",
       "      <td>PUDUCHERRY</td>\n",
       "      <td>605008.0</td>\n",
       "      <td>IN</td>\n",
       "      <td>False</td>\n",
       "      <td>Easy Ship</td>\n",
       "      <td>NaN</td>\n",
       "      <td>NaN</td>\n",
       "    </tr>\n",
       "    <tr>\n",
       "      <th>4</th>\n",
       "      <td>4</td>\n",
       "      <td>407-1069790-7240320</td>\n",
       "      <td>04-30-22</td>\n",
       "      <td>Shipped</td>\n",
       "      <td>Amazon</td>\n",
       "      <td>Amazon.in</td>\n",
       "      <td>Expedited</td>\n",
       "      <td>Trousers</td>\n",
       "      <td>3XL</td>\n",
       "      <td>Shipped</td>\n",
       "      <td>...</td>\n",
       "      <td>INR</td>\n",
       "      <td>574.00</td>\n",
       "      <td>CHENNAI</td>\n",
       "      <td>TAMIL NADU</td>\n",
       "      <td>600073.0</td>\n",
       "      <td>IN</td>\n",
       "      <td>False</td>\n",
       "      <td>NaN</td>\n",
       "      <td>NaN</td>\n",
       "      <td>NaN</td>\n",
       "    </tr>\n",
       "    <tr>\n",
       "      <th>...</th>\n",
       "      <td>...</td>\n",
       "      <td>...</td>\n",
       "      <td>...</td>\n",
       "      <td>...</td>\n",
       "      <td>...</td>\n",
       "      <td>...</td>\n",
       "      <td>...</td>\n",
       "      <td>...</td>\n",
       "      <td>...</td>\n",
       "      <td>...</td>\n",
       "      <td>...</td>\n",
       "      <td>...</td>\n",
       "      <td>...</td>\n",
       "      <td>...</td>\n",
       "      <td>...</td>\n",
       "      <td>...</td>\n",
       "      <td>...</td>\n",
       "      <td>...</td>\n",
       "      <td>...</td>\n",
       "      <td>...</td>\n",
       "      <td>...</td>\n",
       "    </tr>\n",
       "    <tr>\n",
       "      <th>128971</th>\n",
       "      <td>128970</td>\n",
       "      <td>406-6001380-7673107</td>\n",
       "      <td>05-31-22</td>\n",
       "      <td>Shipped</td>\n",
       "      <td>Amazon</td>\n",
       "      <td>Amazon.in</td>\n",
       "      <td>Expedited</td>\n",
       "      <td>Shirt</td>\n",
       "      <td>XL</td>\n",
       "      <td>Shipped</td>\n",
       "      <td>...</td>\n",
       "      <td>INR</td>\n",
       "      <td>517.00</td>\n",
       "      <td>HYDERABAD</td>\n",
       "      <td>TELANGANA</td>\n",
       "      <td>500013.0</td>\n",
       "      <td>IN</td>\n",
       "      <td>False</td>\n",
       "      <td>NaN</td>\n",
       "      <td>NaN</td>\n",
       "      <td>NaN</td>\n",
       "    </tr>\n",
       "    <tr>\n",
       "      <th>128972</th>\n",
       "      <td>128971</td>\n",
       "      <td>402-9551604-7544318</td>\n",
       "      <td>05-31-22</td>\n",
       "      <td>Shipped</td>\n",
       "      <td>Amazon</td>\n",
       "      <td>Amazon.in</td>\n",
       "      <td>Expedited</td>\n",
       "      <td>T-shirt</td>\n",
       "      <td>M</td>\n",
       "      <td>Shipped</td>\n",
       "      <td>...</td>\n",
       "      <td>INR</td>\n",
       "      <td>999.00</td>\n",
       "      <td>GURUGRAM</td>\n",
       "      <td>HARYANA</td>\n",
       "      <td>122004.0</td>\n",
       "      <td>IN</td>\n",
       "      <td>False</td>\n",
       "      <td>NaN</td>\n",
       "      <td>NaN</td>\n",
       "      <td>NaN</td>\n",
       "    </tr>\n",
       "    <tr>\n",
       "      <th>128973</th>\n",
       "      <td>128972</td>\n",
       "      <td>407-9547469-3152358</td>\n",
       "      <td>05-31-22</td>\n",
       "      <td>Shipped</td>\n",
       "      <td>Amazon</td>\n",
       "      <td>Amazon.in</td>\n",
       "      <td>Expedited</td>\n",
       "      <td>Blazzer</td>\n",
       "      <td>XXL</td>\n",
       "      <td>Shipped</td>\n",
       "      <td>...</td>\n",
       "      <td>INR</td>\n",
       "      <td>690.00</td>\n",
       "      <td>HYDERABAD</td>\n",
       "      <td>TELANGANA</td>\n",
       "      <td>500049.0</td>\n",
       "      <td>IN</td>\n",
       "      <td>False</td>\n",
       "      <td>NaN</td>\n",
       "      <td>NaN</td>\n",
       "      <td>NaN</td>\n",
       "    </tr>\n",
       "    <tr>\n",
       "      <th>128974</th>\n",
       "      <td>128973</td>\n",
       "      <td>402-6184140-0545956</td>\n",
       "      <td>05-31-22</td>\n",
       "      <td>Shipped</td>\n",
       "      <td>Amazon</td>\n",
       "      <td>Amazon.in</td>\n",
       "      <td>Expedited</td>\n",
       "      <td>T-shirt</td>\n",
       "      <td>XS</td>\n",
       "      <td>Shipped</td>\n",
       "      <td>...</td>\n",
       "      <td>INR</td>\n",
       "      <td>1199.00</td>\n",
       "      <td>Halol</td>\n",
       "      <td>Gujarat</td>\n",
       "      <td>389350.0</td>\n",
       "      <td>IN</td>\n",
       "      <td>False</td>\n",
       "      <td>NaN</td>\n",
       "      <td>NaN</td>\n",
       "      <td>NaN</td>\n",
       "    </tr>\n",
       "    <tr>\n",
       "      <th>128975</th>\n",
       "      <td>128974</td>\n",
       "      <td>408-7436540-8728312</td>\n",
       "      <td>05-31-22</td>\n",
       "      <td>Shipped</td>\n",
       "      <td>Amazon</td>\n",
       "      <td>Amazon.in</td>\n",
       "      <td>Expedited</td>\n",
       "      <td>T-shirt</td>\n",
       "      <td>S</td>\n",
       "      <td>Shipped</td>\n",
       "      <td>...</td>\n",
       "      <td>INR</td>\n",
       "      <td>696.00</td>\n",
       "      <td>Raipur</td>\n",
       "      <td>CHHATTISGARH</td>\n",
       "      <td>492014.0</td>\n",
       "      <td>IN</td>\n",
       "      <td>False</td>\n",
       "      <td>NaN</td>\n",
       "      <td>NaN</td>\n",
       "      <td>NaN</td>\n",
       "    </tr>\n",
       "  </tbody>\n",
       "</table>\n",
       "<p>128976 rows × 21 columns</p>\n",
       "</div>"
      ],
      "text/plain": [
       "         index             Order ID      Date                        Status  \\\n",
       "0            0  405-8078784-5731545  04-30-22                     Cancelled   \n",
       "1            1  171-9198151-1101146  04-30-22  Shipped - Delivered to Buyer   \n",
       "2            2  404-0687676-7273146  04-30-22                       Shipped   \n",
       "3            3  403-9615377-8133951  04-30-22                     Cancelled   \n",
       "4            4  407-1069790-7240320  04-30-22                       Shipped   \n",
       "...        ...                  ...       ...                           ...   \n",
       "128971  128970  406-6001380-7673107  05-31-22                       Shipped   \n",
       "128972  128971  402-9551604-7544318  05-31-22                       Shipped   \n",
       "128973  128972  407-9547469-3152358  05-31-22                       Shipped   \n",
       "128974  128973  402-6184140-0545956  05-31-22                       Shipped   \n",
       "128975  128974  408-7436540-8728312  05-31-22                       Shipped   \n",
       "\n",
       "       Fulfilment Sales Channel ship-service-level  Category Size  \\\n",
       "0        Merchant     Amazon.in           Standard   T-shirt    S   \n",
       "1        Merchant     Amazon.in           Standard     Shirt  3XL   \n",
       "2          Amazon     Amazon.in          Expedited     Shirt   XL   \n",
       "3        Merchant     Amazon.in           Standard   Blazzer    L   \n",
       "4          Amazon     Amazon.in          Expedited  Trousers  3XL   \n",
       "...           ...           ...                ...       ...  ...   \n",
       "128971     Amazon     Amazon.in          Expedited     Shirt   XL   \n",
       "128972     Amazon     Amazon.in          Expedited   T-shirt    M   \n",
       "128973     Amazon     Amazon.in          Expedited   Blazzer  XXL   \n",
       "128974     Amazon     Amazon.in          Expedited   T-shirt   XS   \n",
       "128975     Amazon     Amazon.in          Expedited   T-shirt    S   \n",
       "\n",
       "       Courier Status  ...  currency   Amount    ship-city    ship-state  \\\n",
       "0          On the Way  ...       INR   647.62       MUMBAI   MAHARASHTRA   \n",
       "1             Shipped  ...       INR   406.00    BENGALURU     KARNATAKA   \n",
       "2             Shipped  ...       INR   329.00  NAVI MUMBAI   MAHARASHTRA   \n",
       "3          On the Way  ...       INR   753.33   PUDUCHERRY    PUDUCHERRY   \n",
       "4             Shipped  ...       INR   574.00      CHENNAI    TAMIL NADU   \n",
       "...               ...  ...       ...      ...          ...           ...   \n",
       "128971        Shipped  ...       INR   517.00    HYDERABAD     TELANGANA   \n",
       "128972        Shipped  ...       INR   999.00     GURUGRAM       HARYANA   \n",
       "128973        Shipped  ...       INR   690.00    HYDERABAD     TELANGANA   \n",
       "128974        Shipped  ...       INR  1199.00        Halol       Gujarat   \n",
       "128975        Shipped  ...       INR   696.00       Raipur  CHHATTISGARH   \n",
       "\n",
       "       ship-postal-code  ship-country    B2B  fulfilled-by New  PendingS  \n",
       "0              400081.0            IN  False     Easy Ship NaN       NaN  \n",
       "1              560085.0            IN  False     Easy Ship NaN       NaN  \n",
       "2              410210.0            IN   True           NaN NaN       NaN  \n",
       "3              605008.0            IN  False     Easy Ship NaN       NaN  \n",
       "4              600073.0            IN  False           NaN NaN       NaN  \n",
       "...                 ...           ...    ...           ...  ..       ...  \n",
       "128971         500013.0            IN  False           NaN NaN       NaN  \n",
       "128972         122004.0            IN  False           NaN NaN       NaN  \n",
       "128973         500049.0            IN  False           NaN NaN       NaN  \n",
       "128974         389350.0            IN  False           NaN NaN       NaN  \n",
       "128975         492014.0            IN  False           NaN NaN       NaN  \n",
       "\n",
       "[128976 rows x 21 columns]"
      ]
     },
     "execution_count": 3,
     "metadata": {},
     "output_type": "execute_result"
    }
   ],
   "source": [
    "ama"
   ]
  },
  {
   "cell_type": "code",
   "execution_count": 4,
   "id": "dfe8ef06-7e8d-4568-bdf7-41c191108ee2",
   "metadata": {},
   "outputs": [
    {
     "name": "stdout",
     "output_type": "stream",
     "text": [
      "<class 'pandas.core.frame.DataFrame'>\n",
      "RangeIndex: 128976 entries, 0 to 128975\n",
      "Data columns (total 21 columns):\n",
      " #   Column              Non-Null Count   Dtype  \n",
      "---  ------              --------------   -----  \n",
      " 0   index               128976 non-null  int64  \n",
      " 1   Order ID            128976 non-null  object \n",
      " 2   Date                128976 non-null  object \n",
      " 3   Status              128976 non-null  object \n",
      " 4   Fulfilment          128976 non-null  object \n",
      " 5   Sales Channel       128976 non-null  object \n",
      " 6   ship-service-level  128976 non-null  object \n",
      " 7   Category            128976 non-null  object \n",
      " 8   Size                128976 non-null  object \n",
      " 9   Courier Status      128976 non-null  object \n",
      " 10  Qty                 128976 non-null  int64  \n",
      " 11  currency            121176 non-null  object \n",
      " 12  Amount              121176 non-null  float64\n",
      " 13  ship-city           128941 non-null  object \n",
      " 14  ship-state          128941 non-null  object \n",
      " 15  ship-postal-code    128941 non-null  float64\n",
      " 16  ship-country        128941 non-null  object \n",
      " 17  B2B                 128976 non-null  bool   \n",
      " 18  fulfilled-by        39263 non-null   object \n",
      " 19  New                 0 non-null       float64\n",
      " 20  PendingS            0 non-null       float64\n",
      "dtypes: bool(1), float64(4), int64(2), object(14)\n",
      "memory usage: 19.8+ MB\n"
     ]
    }
   ],
   "source": [
    "ama.info()"
   ]
  },
  {
   "cell_type": "code",
   "execution_count": 5,
   "id": "653b3fa2-ef6d-4bec-812b-cc4e9e4831dd",
   "metadata": {},
   "outputs": [],
   "source": [
    "# 19 20 are totally empty remove them\n",
    "# 18 has some null values \n",
    "# 13 14 15 16 has some missing or null values just check them\n",
    "# ship-postal-code has data type just change them into int64\n",
    "# change the date time datatype into daytime"
   ]
  },
  {
   "cell_type": "code",
   "execution_count": 6,
   "id": "a3777697-de4b-4cf3-b537-e2bd7ab7b7e5",
   "metadata": {},
   "outputs": [],
   "source": [
    "ama.drop(['New', 'PendingS'], axis=1 , inplace = True)"
   ]
  },
  {
   "cell_type": "code",
   "execution_count": 7,
   "id": "93e518d8-dbac-4bc6-a20b-512ea7da7a37",
   "metadata": {},
   "outputs": [
    {
     "name": "stdout",
     "output_type": "stream",
     "text": [
      "<class 'pandas.core.frame.DataFrame'>\n",
      "RangeIndex: 128976 entries, 0 to 128975\n",
      "Data columns (total 19 columns):\n",
      " #   Column              Non-Null Count   Dtype  \n",
      "---  ------              --------------   -----  \n",
      " 0   index               128976 non-null  int64  \n",
      " 1   Order ID            128976 non-null  object \n",
      " 2   Date                128976 non-null  object \n",
      " 3   Status              128976 non-null  object \n",
      " 4   Fulfilment          128976 non-null  object \n",
      " 5   Sales Channel       128976 non-null  object \n",
      " 6   ship-service-level  128976 non-null  object \n",
      " 7   Category            128976 non-null  object \n",
      " 8   Size                128976 non-null  object \n",
      " 9   Courier Status      128976 non-null  object \n",
      " 10  Qty                 128976 non-null  int64  \n",
      " 11  currency            121176 non-null  object \n",
      " 12  Amount              121176 non-null  float64\n",
      " 13  ship-city           128941 non-null  object \n",
      " 14  ship-state          128941 non-null  object \n",
      " 15  ship-postal-code    128941 non-null  float64\n",
      " 16  ship-country        128941 non-null  object \n",
      " 17  B2B                 128976 non-null  bool   \n",
      " 18  fulfilled-by        39263 non-null   object \n",
      "dtypes: bool(1), float64(2), int64(2), object(14)\n",
      "memory usage: 17.8+ MB\n"
     ]
    }
   ],
   "source": [
    "ama.info()"
   ]
  },
  {
   "cell_type": "code",
   "execution_count": 8,
   "id": "28909e59-44ed-4f77-b4d6-7965c6a483bd",
   "metadata": {},
   "outputs": [
    {
     "data": {
      "text/plain": [
       "index                     0\n",
       "Order ID                  0\n",
       "Date                      0\n",
       "Status                    0\n",
       "Fulfilment                0\n",
       "Sales Channel             0\n",
       "ship-service-level        0\n",
       "Category                  0\n",
       "Size                      0\n",
       "Courier Status            0\n",
       "Qty                       0\n",
       "currency               7800\n",
       "Amount                 7800\n",
       "ship-city                35\n",
       "ship-state               35\n",
       "ship-postal-code         35\n",
       "ship-country             35\n",
       "B2B                       0\n",
       "fulfilled-by          89713\n",
       "dtype: int64"
      ]
     },
     "execution_count": 8,
     "metadata": {},
     "output_type": "execute_result"
    }
   ],
   "source": [
    "ama.isnull().sum()"
   ]
  },
  {
   "cell_type": "code",
   "execution_count": 9,
   "id": "f7283445-979a-489d-bf3b-7e252b370447",
   "metadata": {},
   "outputs": [
    {
     "data": {
      "text/plain": [
       "(128976, 19)"
      ]
     },
     "execution_count": 9,
     "metadata": {},
     "output_type": "execute_result"
    }
   ],
   "source": [
    "ama.shape"
   ]
  },
  {
   "cell_type": "code",
   "execution_count": 10,
   "id": "d7fe4228-4f17-42ed-b85f-26594a008398",
   "metadata": {},
   "outputs": [],
   "source": [
    "ama.dropna(inplace = True)"
   ]
  },
  {
   "cell_type": "code",
   "execution_count": 11,
   "id": "6275e4d0-b867-4f07-a2b8-17c5dca41f10",
   "metadata": {},
   "outputs": [
    {
     "data": {
      "text/plain": [
       "(37514, 19)"
      ]
     },
     "execution_count": 11,
     "metadata": {},
     "output_type": "execute_result"
    }
   ],
   "source": [
    "ama.shape"
   ]
  },
  {
   "cell_type": "code",
   "execution_count": 12,
   "id": "a4f085a9-7a94-44d9-b613-f90e12a28d00",
   "metadata": {},
   "outputs": [
    {
     "name": "stdout",
     "output_type": "stream",
     "text": [
      "<class 'pandas.core.frame.DataFrame'>\n",
      "Index: 37514 entries, 0 to 128892\n",
      "Data columns (total 19 columns):\n",
      " #   Column              Non-Null Count  Dtype  \n",
      "---  ------              --------------  -----  \n",
      " 0   index               37514 non-null  int64  \n",
      " 1   Order ID            37514 non-null  object \n",
      " 2   Date                37514 non-null  object \n",
      " 3   Status              37514 non-null  object \n",
      " 4   Fulfilment          37514 non-null  object \n",
      " 5   Sales Channel       37514 non-null  object \n",
      " 6   ship-service-level  37514 non-null  object \n",
      " 7   Category            37514 non-null  object \n",
      " 8   Size                37514 non-null  object \n",
      " 9   Courier Status      37514 non-null  object \n",
      " 10  Qty                 37514 non-null  int64  \n",
      " 11  currency            37514 non-null  object \n",
      " 12  Amount              37514 non-null  float64\n",
      " 13  ship-city           37514 non-null  object \n",
      " 14  ship-state          37514 non-null  object \n",
      " 15  ship-postal-code    37514 non-null  int32  \n",
      " 16  ship-country        37514 non-null  object \n",
      " 17  B2B                 37514 non-null  bool   \n",
      " 18  fulfilled-by        37514 non-null  object \n",
      "dtypes: bool(1), float64(1), int32(1), int64(2), object(14)\n",
      "memory usage: 5.3+ MB\n"
     ]
    }
   ],
   "source": [
    "ama['ship-postal-code'] = ama['ship-postal-code'].astype(int)\n",
    "ama.info()"
   ]
  },
  {
   "cell_type": "code",
   "execution_count": 13,
   "id": "c90943e3-3649-40c0-b458-2d5aaff3c038",
   "metadata": {},
   "outputs": [
    {
     "name": "stdout",
     "output_type": "stream",
     "text": [
      "<class 'pandas.core.frame.DataFrame'>\n",
      "Index: 37514 entries, 0 to 128892\n",
      "Data columns (total 19 columns):\n",
      " #   Column              Non-Null Count  Dtype         \n",
      "---  ------              --------------  -----         \n",
      " 0   index               37514 non-null  int64         \n",
      " 1   Order ID            37514 non-null  object        \n",
      " 2   Date                37514 non-null  datetime64[ns]\n",
      " 3   Status              37514 non-null  object        \n",
      " 4   Fulfilment          37514 non-null  object        \n",
      " 5   Sales Channel       37514 non-null  object        \n",
      " 6   ship-service-level  37514 non-null  object        \n",
      " 7   Category            37514 non-null  object        \n",
      " 8   Size                37514 non-null  object        \n",
      " 9   Courier Status      37514 non-null  object        \n",
      " 10  Qty                 37514 non-null  int64         \n",
      " 11  currency            37514 non-null  object        \n",
      " 12  Amount              37514 non-null  float64       \n",
      " 13  ship-city           37514 non-null  object        \n",
      " 14  ship-state          37514 non-null  object        \n",
      " 15  ship-postal-code    37514 non-null  int32         \n",
      " 16  ship-country        37514 non-null  object        \n",
      " 17  B2B                 37514 non-null  bool          \n",
      " 18  fulfilled-by        37514 non-null  object        \n",
      "dtypes: bool(1), datetime64[ns](1), float64(1), int32(1), int64(2), object(13)\n",
      "memory usage: 5.3+ MB\n"
     ]
    },
    {
     "name": "stderr",
     "output_type": "stream",
     "text": [
      "C:\\Users\\Asus\\AppData\\Local\\Temp\\ipykernel_19320\\501291242.py:1: UserWarning: Could not infer format, so each element will be parsed individually, falling back to `dateutil`. To ensure parsing is consistent and as-expected, please specify a format.\n",
      "  ama['Date'] = pd.to_datetime(ama['Date'])\n"
     ]
    }
   ],
   "source": [
    "ama['Date'] = pd.to_datetime(ama['Date'])\n",
    "ama.info()"
   ]
  },
  {
   "cell_type": "code",
   "execution_count": 14,
   "id": "6a5eacb2-c0e3-4b65-bcf9-4b3230cdeb2a",
   "metadata": {},
   "outputs": [],
   "source": [
    "ama['DAYS'] =ama['Date'].dt.day_name()\n",
    "ama['MONTHS'] = ama['Date'].dt.month_name()\n",
    "ama['YEAR'] = ama['Date'].dt.year"
   ]
  },
  {
   "cell_type": "code",
   "execution_count": 15,
   "id": "564c5c60-6ca2-480c-a75b-dcb9570547c0",
   "metadata": {},
   "outputs": [
    {
     "data": {
      "text/html": [
       "<div>\n",
       "<style scoped>\n",
       "    .dataframe tbody tr th:only-of-type {\n",
       "        vertical-align: middle;\n",
       "    }\n",
       "\n",
       "    .dataframe tbody tr th {\n",
       "        vertical-align: top;\n",
       "    }\n",
       "\n",
       "    .dataframe thead th {\n",
       "        text-align: right;\n",
       "    }\n",
       "</style>\n",
       "<table border=\"1\" class=\"dataframe\">\n",
       "  <thead>\n",
       "    <tr style=\"text-align: right;\">\n",
       "      <th></th>\n",
       "      <th>index</th>\n",
       "      <th>Order ID</th>\n",
       "      <th>Date</th>\n",
       "      <th>Status</th>\n",
       "      <th>Fulfilment</th>\n",
       "      <th>Sales Channel</th>\n",
       "      <th>ship-service-level</th>\n",
       "      <th>Category</th>\n",
       "      <th>Size</th>\n",
       "      <th>Courier Status</th>\n",
       "      <th>...</th>\n",
       "      <th>Amount</th>\n",
       "      <th>ship-city</th>\n",
       "      <th>ship-state</th>\n",
       "      <th>ship-postal-code</th>\n",
       "      <th>ship-country</th>\n",
       "      <th>B2B</th>\n",
       "      <th>fulfilled-by</th>\n",
       "      <th>DAYS</th>\n",
       "      <th>MONTHS</th>\n",
       "      <th>YEAR</th>\n",
       "    </tr>\n",
       "  </thead>\n",
       "  <tbody>\n",
       "    <tr>\n",
       "      <th>0</th>\n",
       "      <td>0</td>\n",
       "      <td>405-8078784-5731545</td>\n",
       "      <td>2022-04-30</td>\n",
       "      <td>Cancelled</td>\n",
       "      <td>Merchant</td>\n",
       "      <td>Amazon.in</td>\n",
       "      <td>Standard</td>\n",
       "      <td>T-shirt</td>\n",
       "      <td>S</td>\n",
       "      <td>On the Way</td>\n",
       "      <td>...</td>\n",
       "      <td>647.62</td>\n",
       "      <td>MUMBAI</td>\n",
       "      <td>MAHARASHTRA</td>\n",
       "      <td>400081</td>\n",
       "      <td>IN</td>\n",
       "      <td>False</td>\n",
       "      <td>Easy Ship</td>\n",
       "      <td>Saturday</td>\n",
       "      <td>April</td>\n",
       "      <td>2022</td>\n",
       "    </tr>\n",
       "    <tr>\n",
       "      <th>1</th>\n",
       "      <td>1</td>\n",
       "      <td>171-9198151-1101146</td>\n",
       "      <td>2022-04-30</td>\n",
       "      <td>Shipped - Delivered to Buyer</td>\n",
       "      <td>Merchant</td>\n",
       "      <td>Amazon.in</td>\n",
       "      <td>Standard</td>\n",
       "      <td>Shirt</td>\n",
       "      <td>3XL</td>\n",
       "      <td>Shipped</td>\n",
       "      <td>...</td>\n",
       "      <td>406.00</td>\n",
       "      <td>BENGALURU</td>\n",
       "      <td>KARNATAKA</td>\n",
       "      <td>560085</td>\n",
       "      <td>IN</td>\n",
       "      <td>False</td>\n",
       "      <td>Easy Ship</td>\n",
       "      <td>Saturday</td>\n",
       "      <td>April</td>\n",
       "      <td>2022</td>\n",
       "    </tr>\n",
       "    <tr>\n",
       "      <th>3</th>\n",
       "      <td>3</td>\n",
       "      <td>403-9615377-8133951</td>\n",
       "      <td>2022-04-30</td>\n",
       "      <td>Cancelled</td>\n",
       "      <td>Merchant</td>\n",
       "      <td>Amazon.in</td>\n",
       "      <td>Standard</td>\n",
       "      <td>Blazzer</td>\n",
       "      <td>L</td>\n",
       "      <td>On the Way</td>\n",
       "      <td>...</td>\n",
       "      <td>753.33</td>\n",
       "      <td>PUDUCHERRY</td>\n",
       "      <td>PUDUCHERRY</td>\n",
       "      <td>605008</td>\n",
       "      <td>IN</td>\n",
       "      <td>False</td>\n",
       "      <td>Easy Ship</td>\n",
       "      <td>Saturday</td>\n",
       "      <td>April</td>\n",
       "      <td>2022</td>\n",
       "    </tr>\n",
       "    <tr>\n",
       "      <th>7</th>\n",
       "      <td>7</td>\n",
       "      <td>406-7807733-3785945</td>\n",
       "      <td>2022-04-30</td>\n",
       "      <td>Shipped - Delivered to Buyer</td>\n",
       "      <td>Merchant</td>\n",
       "      <td>Amazon.in</td>\n",
       "      <td>Standard</td>\n",
       "      <td>Shirt</td>\n",
       "      <td>S</td>\n",
       "      <td>Shipped</td>\n",
       "      <td>...</td>\n",
       "      <td>399.00</td>\n",
       "      <td>HYDERABAD</td>\n",
       "      <td>TELANGANA</td>\n",
       "      <td>500032</td>\n",
       "      <td>IN</td>\n",
       "      <td>False</td>\n",
       "      <td>Easy Ship</td>\n",
       "      <td>Saturday</td>\n",
       "      <td>April</td>\n",
       "      <td>2022</td>\n",
       "    </tr>\n",
       "    <tr>\n",
       "      <th>12</th>\n",
       "      <td>12</td>\n",
       "      <td>405-5513694-8146768</td>\n",
       "      <td>2022-04-30</td>\n",
       "      <td>Shipped - Delivered to Buyer</td>\n",
       "      <td>Merchant</td>\n",
       "      <td>Amazon.in</td>\n",
       "      <td>Standard</td>\n",
       "      <td>Shirt</td>\n",
       "      <td>XS</td>\n",
       "      <td>Shipped</td>\n",
       "      <td>...</td>\n",
       "      <td>399.00</td>\n",
       "      <td>Amravati.</td>\n",
       "      <td>MAHARASHTRA</td>\n",
       "      <td>444606</td>\n",
       "      <td>IN</td>\n",
       "      <td>False</td>\n",
       "      <td>Easy Ship</td>\n",
       "      <td>Saturday</td>\n",
       "      <td>April</td>\n",
       "      <td>2022</td>\n",
       "    </tr>\n",
       "  </tbody>\n",
       "</table>\n",
       "<p>5 rows × 22 columns</p>\n",
       "</div>"
      ],
      "text/plain": [
       "    index             Order ID       Date                        Status  \\\n",
       "0       0  405-8078784-5731545 2022-04-30                     Cancelled   \n",
       "1       1  171-9198151-1101146 2022-04-30  Shipped - Delivered to Buyer   \n",
       "3       3  403-9615377-8133951 2022-04-30                     Cancelled   \n",
       "7       7  406-7807733-3785945 2022-04-30  Shipped - Delivered to Buyer   \n",
       "12     12  405-5513694-8146768 2022-04-30  Shipped - Delivered to Buyer   \n",
       "\n",
       "   Fulfilment Sales Channel ship-service-level Category Size Courier Status  \\\n",
       "0    Merchant     Amazon.in           Standard  T-shirt    S     On the Way   \n",
       "1    Merchant     Amazon.in           Standard    Shirt  3XL        Shipped   \n",
       "3    Merchant     Amazon.in           Standard  Blazzer    L     On the Way   \n",
       "7    Merchant     Amazon.in           Standard    Shirt    S        Shipped   \n",
       "12   Merchant     Amazon.in           Standard    Shirt   XS        Shipped   \n",
       "\n",
       "    ...  Amount   ship-city   ship-state ship-postal-code ship-country    B2B  \\\n",
       "0   ...  647.62      MUMBAI  MAHARASHTRA           400081           IN  False   \n",
       "1   ...  406.00   BENGALURU    KARNATAKA           560085           IN  False   \n",
       "3   ...  753.33  PUDUCHERRY   PUDUCHERRY           605008           IN  False   \n",
       "7   ...  399.00   HYDERABAD    TELANGANA           500032           IN  False   \n",
       "12  ...  399.00   Amravati.  MAHARASHTRA           444606           IN  False   \n",
       "\n",
       "   fulfilled-by      DAYS MONTHS  YEAR  \n",
       "0     Easy Ship  Saturday  April  2022  \n",
       "1     Easy Ship  Saturday  April  2022  \n",
       "3     Easy Ship  Saturday  April  2022  \n",
       "7     Easy Ship  Saturday  April  2022  \n",
       "12    Easy Ship  Saturday  April  2022  \n",
       "\n",
       "[5 rows x 22 columns]"
      ]
     },
     "execution_count": 15,
     "metadata": {},
     "output_type": "execute_result"
    }
   ],
   "source": [
    "ama.head()"
   ]
  },
  {
   "cell_type": "code",
   "execution_count": 16,
   "id": "db1123d2-b076-42ea-99cc-081aaecd3268",
   "metadata": {},
   "outputs": [
    {
     "data": {
      "text/html": [
       "<div>\n",
       "<style scoped>\n",
       "    .dataframe tbody tr th:only-of-type {\n",
       "        vertical-align: middle;\n",
       "    }\n",
       "\n",
       "    .dataframe tbody tr th {\n",
       "        vertical-align: top;\n",
       "    }\n",
       "\n",
       "    .dataframe thead th {\n",
       "        text-align: right;\n",
       "    }\n",
       "</style>\n",
       "<table border=\"1\" class=\"dataframe\">\n",
       "  <thead>\n",
       "    <tr style=\"text-align: right;\">\n",
       "      <th></th>\n",
       "      <th>Order ID</th>\n",
       "      <th>Status</th>\n",
       "      <th>Fulfilment</th>\n",
       "      <th>Sales Channel</th>\n",
       "      <th>ship-service-level</th>\n",
       "      <th>Category</th>\n",
       "      <th>Size</th>\n",
       "      <th>Courier Status</th>\n",
       "      <th>currency</th>\n",
       "      <th>ship-city</th>\n",
       "      <th>ship-state</th>\n",
       "      <th>ship-country</th>\n",
       "      <th>fulfilled-by</th>\n",
       "      <th>DAYS</th>\n",
       "      <th>MONTHS</th>\n",
       "    </tr>\n",
       "  </thead>\n",
       "  <tbody>\n",
       "    <tr>\n",
       "      <th>count</th>\n",
       "      <td>37514</td>\n",
       "      <td>37514</td>\n",
       "      <td>37514</td>\n",
       "      <td>37514</td>\n",
       "      <td>37514</td>\n",
       "      <td>37514</td>\n",
       "      <td>37514</td>\n",
       "      <td>37514</td>\n",
       "      <td>37514</td>\n",
       "      <td>37514</td>\n",
       "      <td>37514</td>\n",
       "      <td>37514</td>\n",
       "      <td>37514</td>\n",
       "      <td>37514</td>\n",
       "      <td>37514</td>\n",
       "    </tr>\n",
       "    <tr>\n",
       "      <th>unique</th>\n",
       "      <td>34664</td>\n",
       "      <td>11</td>\n",
       "      <td>1</td>\n",
       "      <td>1</td>\n",
       "      <td>1</td>\n",
       "      <td>8</td>\n",
       "      <td>11</td>\n",
       "      <td>3</td>\n",
       "      <td>1</td>\n",
       "      <td>4698</td>\n",
       "      <td>58</td>\n",
       "      <td>1</td>\n",
       "      <td>1</td>\n",
       "      <td>7</td>\n",
       "      <td>4</td>\n",
       "    </tr>\n",
       "    <tr>\n",
       "      <th>top</th>\n",
       "      <td>171-5057375-2831560</td>\n",
       "      <td>Shipped - Delivered to Buyer</td>\n",
       "      <td>Merchant</td>\n",
       "      <td>Amazon.in</td>\n",
       "      <td>Standard</td>\n",
       "      <td>T-shirt</td>\n",
       "      <td>M</td>\n",
       "      <td>Shipped</td>\n",
       "      <td>INR</td>\n",
       "      <td>BENGALURU</td>\n",
       "      <td>MAHARASHTRA</td>\n",
       "      <td>IN</td>\n",
       "      <td>Easy Ship</td>\n",
       "      <td>Sunday</td>\n",
       "      <td>April</td>\n",
       "    </tr>\n",
       "    <tr>\n",
       "      <th>freq</th>\n",
       "      <td>12</td>\n",
       "      <td>28741</td>\n",
       "      <td>37514</td>\n",
       "      <td>37514</td>\n",
       "      <td>37514</td>\n",
       "      <td>14062</td>\n",
       "      <td>6806</td>\n",
       "      <td>31859</td>\n",
       "      <td>37514</td>\n",
       "      <td>2839</td>\n",
       "      <td>6236</td>\n",
       "      <td>37514</td>\n",
       "      <td>37514</td>\n",
       "      <td>5852</td>\n",
       "      <td>15091</td>\n",
       "    </tr>\n",
       "  </tbody>\n",
       "</table>\n",
       "</div>"
      ],
      "text/plain": [
       "                   Order ID                        Status Fulfilment  \\\n",
       "count                 37514                         37514      37514   \n",
       "unique                34664                            11          1   \n",
       "top     171-5057375-2831560  Shipped - Delivered to Buyer   Merchant   \n",
       "freq                     12                         28741      37514   \n",
       "\n",
       "       Sales Channel ship-service-level Category   Size Courier Status  \\\n",
       "count          37514              37514    37514  37514          37514   \n",
       "unique             1                  1        8     11              3   \n",
       "top        Amazon.in           Standard  T-shirt      M        Shipped   \n",
       "freq           37514              37514    14062   6806          31859   \n",
       "\n",
       "       currency  ship-city   ship-state ship-country fulfilled-by    DAYS  \\\n",
       "count     37514      37514        37514        37514        37514   37514   \n",
       "unique        1       4698           58            1            1       7   \n",
       "top         INR  BENGALURU  MAHARASHTRA           IN    Easy Ship  Sunday   \n",
       "freq      37514       2839         6236        37514        37514    5852   \n",
       "\n",
       "       MONTHS  \n",
       "count   37514  \n",
       "unique      4  \n",
       "top     April  \n",
       "freq    15091  "
      ]
     },
     "execution_count": 16,
     "metadata": {},
     "output_type": "execute_result"
    }
   ],
   "source": [
    "ama.describe(include = 'object')"
   ]
  },
  {
   "cell_type": "code",
   "execution_count": 17,
   "id": "8f0d2a41-590b-4291-8779-527a3c14a4d9",
   "metadata": {},
   "outputs": [
    {
     "name": "stderr",
     "output_type": "stream",
     "text": [
      "C:\\Users\\Asus\\AppData\\Local\\Temp\\ipykernel_19320\\187044975.py:3: FutureWarning: \n",
      "\n",
      "Passing `palette` without assigning `hue` is deprecated and will be removed in v0.14.0. Assign the `x` variable to `hue` and set `legend=False` for the same effect.\n",
      "\n",
      "  ax = sns.countplot(x = 'Size', data = ama , palette='viridis')\n"
     ]
    },
    {
     "data": {
      "image/png": "[encoded data removed]",
      "text/plain": [
       "<Figure size 640x480 with 1 Axes>"
      ]
     },
     "metadata": {},
     "output_type": "display_data"
    }
   ],
   "source": [
    "### size\n",
    "\n",
    "ax = sns.countplot(x = 'Size', data = ama , palette='viridis')\n",
    "for bars in ax.containers:\n",
    "    ax.bar_label(bars)"
   ]
  },
  {
   "cell_type": "markdown",
   "id": "d32c5ef6-75a0-489a-9553-31a9dec7879e",
   "metadata": {},
   "source": [
    "# most of the order are M size"
   ]
  },
  {
   "cell_type": "code",
   "execution_count": 18,
   "id": "2238236a-f7f3-4e68-b776-65e86f8bb753",
   "metadata": {},
   "outputs": [
    {
     "data": {
      "text/html": [
       "<div>\n",
       "<style scoped>\n",
       "    .dataframe tbody tr th:only-of-type {\n",
       "        vertical-align: middle;\n",
       "    }\n",
       "\n",
       "    .dataframe tbody tr th {\n",
       "        vertical-align: top;\n",
       "    }\n",
       "\n",
       "    .dataframe thead th {\n",
       "        text-align: right;\n",
       "    }\n",
       "</style>\n",
       "<table border=\"1\" class=\"dataframe\">\n",
       "  <thead>\n",
       "    <tr style=\"text-align: right;\">\n",
       "      <th></th>\n",
       "      <th>index</th>\n",
       "      <th>Order ID</th>\n",
       "      <th>Date</th>\n",
       "      <th>Status</th>\n",
       "      <th>Fulfilment</th>\n",
       "      <th>Sales Channel</th>\n",
       "      <th>ship-service-level</th>\n",
       "      <th>Category</th>\n",
       "      <th>Size</th>\n",
       "      <th>Courier Status</th>\n",
       "      <th>...</th>\n",
       "      <th>Amount</th>\n",
       "      <th>ship-city</th>\n",
       "      <th>ship-state</th>\n",
       "      <th>ship-postal-code</th>\n",
       "      <th>ship-country</th>\n",
       "      <th>B2B</th>\n",
       "      <th>fulfilled-by</th>\n",
       "      <th>DAYS</th>\n",
       "      <th>MONTHS</th>\n",
       "      <th>YEAR</th>\n",
       "    </tr>\n",
       "  </thead>\n",
       "  <tbody>\n",
       "    <tr>\n",
       "      <th>0</th>\n",
       "      <td>0</td>\n",
       "      <td>405-8078784-5731545</td>\n",
       "      <td>2022-04-30</td>\n",
       "      <td>Cancelled</td>\n",
       "      <td>Merchant</td>\n",
       "      <td>Amazon.in</td>\n",
       "      <td>Standard</td>\n",
       "      <td>T-shirt</td>\n",
       "      <td>S</td>\n",
       "      <td>On the Way</td>\n",
       "      <td>...</td>\n",
       "      <td>647.62</td>\n",
       "      <td>MUMBAI</td>\n",
       "      <td>MAHARASHTRA</td>\n",
       "      <td>400081</td>\n",
       "      <td>IN</td>\n",
       "      <td>False</td>\n",
       "      <td>Easy Ship</td>\n",
       "      <td>Saturday</td>\n",
       "      <td>April</td>\n",
       "      <td>2022</td>\n",
       "    </tr>\n",
       "    <tr>\n",
       "      <th>1</th>\n",
       "      <td>1</td>\n",
       "      <td>171-9198151-1101146</td>\n",
       "      <td>2022-04-30</td>\n",
       "      <td>Shipped - Delivered to Buyer</td>\n",
       "      <td>Merchant</td>\n",
       "      <td>Amazon.in</td>\n",
       "      <td>Standard</td>\n",
       "      <td>Shirt</td>\n",
       "      <td>3XL</td>\n",
       "      <td>Shipped</td>\n",
       "      <td>...</td>\n",
       "      <td>406.00</td>\n",
       "      <td>BENGALURU</td>\n",
       "      <td>KARNATAKA</td>\n",
       "      <td>560085</td>\n",
       "      <td>IN</td>\n",
       "      <td>False</td>\n",
       "      <td>Easy Ship</td>\n",
       "      <td>Saturday</td>\n",
       "      <td>April</td>\n",
       "      <td>2022</td>\n",
       "    </tr>\n",
       "  </tbody>\n",
       "</table>\n",
       "<p>2 rows × 22 columns</p>\n",
       "</div>"
      ],
      "text/plain": [
       "   index             Order ID       Date                        Status  \\\n",
       "0      0  405-8078784-5731545 2022-04-30                     Cancelled   \n",
       "1      1  171-9198151-1101146 2022-04-30  Shipped - Delivered to Buyer   \n",
       "\n",
       "  Fulfilment Sales Channel ship-service-level Category Size Courier Status  \\\n",
       "0   Merchant     Amazon.in           Standard  T-shirt    S     On the Way   \n",
       "1   Merchant     Amazon.in           Standard    Shirt  3XL        Shipped   \n",
       "\n",
       "   ...  Amount  ship-city   ship-state ship-postal-code ship-country    B2B  \\\n",
       "0  ...  647.62     MUMBAI  MAHARASHTRA           400081           IN  False   \n",
       "1  ...  406.00  BENGALURU    KARNATAKA           560085           IN  False   \n",
       "\n",
       "  fulfilled-by      DAYS MONTHS  YEAR  \n",
       "0    Easy Ship  Saturday  April  2022  \n",
       "1    Easy Ship  Saturday  April  2022  \n",
       "\n",
       "[2 rows x 22 columns]"
      ]
     },
     "execution_count": 18,
     "metadata": {},
     "output_type": "execute_result"
    }
   ],
   "source": [
    "ama.head(2)"
   ]
  },
  {
   "cell_type": "code",
   "execution_count": 19,
   "id": "31c1a245-2fc6-4064-97bb-c9d7c79cad36",
   "metadata": {},
   "outputs": [
    {
     "data": {
      "image/png": "[encoded data removed]",
      "text/plain": [
       "<Figure size 640x480 with 1 Axes>"
      ]
     },
     "metadata": {},
     "output_type": "display_data"
    }
   ],
   "source": [
    "ax = sns.countplot(x = 'Courier Status' , data = ama , palette = 'viridis' , hue = 'Status')\n",
    "for bars in ax.containers:\n",
    "    ax.bar_label(bars)"
   ]
  },
  {
   "cell_type": "markdown",
   "id": "73820780-053b-4a9e-ae12-bd029baa6e4a",
   "metadata": {},
   "source": [
    "# from graph most of order ->  shipped are delivered to buyer"
   ]
  },
  {
   "cell_type": "code",
   "execution_count": 20,
   "id": "98c6cf06-7478-45de-99ec-f585e6501a43",
   "metadata": {},
   "outputs": [
    {
     "data": {
      "image/png": "[encoded data removed]",
      "text/plain": [
       "<Figure size 800x400 with 1 Axes>"
      ]
     },
     "metadata": {},
     "output_type": "display_data"
    }
   ],
   "source": [
    "plt.figure(figsize= (8,4))\n",
    "ct = ama.groupby('Category')['Amount'].count().sort_values(ascending=False).reset_index()\n",
    "sns.barplot(data=ct, x='Category', y='Amount', palette = 'viridis' , hue = 'Category')\n",
    "plt.xticks(rotation=90)\n",
    "plt.show()"
   ]
  },
  {
   "cell_type": "markdown",
   "id": "70d3fb8a-852d-4aac-be23-5eebb831398c",
   "metadata": {},
   "source": [
    "# most of the customer are buy t-shirt"
   ]
  },
  {
   "cell_type": "code",
   "execution_count": 21,
   "id": "28871299-1f2a-4f95-b4c0-7084e84e07af",
   "metadata": {},
   "outputs": [
    {
     "data": {
      "image/png": "[encoded data removed]",
      "text/plain": [
       "<Figure size 800x400 with 1 Axes>"
      ]
     },
     "metadata": {},
     "output_type": "display_data"
    }
   ],
   "source": [
    "s_city = ama.groupby('ship-city')['Amount'].count().sort_values(ascending = False).reset_index().head(10)\n",
    "plt.figure(figsize=(8,4))\n",
    "sns.barplot(data = s_city, x = 'ship-city' , y ='Amount' , color = 'yellow' , edgecolor = 'black')\n",
    "plt.xticks(rotation = 90)\n",
    "plt.show()"
   ]
  },
  {
   "cell_type": "markdown",
   "id": "12a40481-fa63-4076-ada4-55d7d9442fa1",
   "metadata": {},
   "source": [
    "# most of customer product are shiped from bengaluru"
   ]
  },
  {
   "cell_type": "code",
   "execution_count": 22,
   "id": "3e22583a-ec1d-4380-91d7-1757eeb68bdf",
   "metadata": {},
   "outputs": [
    {
     "data": {
      "image/png": "[encoded data removed]",
      "text/plain": [
       "<Figure size 800x400 with 1 Axes>"
      ]
     },
     "metadata": {},
     "output_type": "display_data"
    }
   ],
   "source": [
    "s_city = ama.groupby('ship-state')['Amount'].count().sort_values(ascending = False).reset_index().head(10)\n",
    "plt.figure(figsize=(8,4))\n",
    "sns.barplot(data = s_city, x = 'ship-state' , y ='Amount' , color = 'pink' , edgecolor = 'red')\n",
    "plt.xticks(rotation = 90)\n",
    "plt.show()"
   ]
  },
  {
   "cell_type": "markdown",
   "id": "aa392f4c-e2a9-4ee7-90ee-a46481ed0901",
   "metadata": {},
   "source": [
    "# most of customer product are shiped from MAHARASHTRA"
   ]
  },
  {
   "cell_type": "code",
   "execution_count": 23,
   "id": "af8f5d92-e428-4581-8327-d802bf8e1769",
   "metadata": {},
   "outputs": [
    {
     "data": {
      "image/png": "[encoded data removed]",
      "text/plain": [
       "<Figure size 640x480 with 1 Axes>"
      ]
     },
     "metadata": {},
     "output_type": "display_data"
    }
   ],
   "source": [
    "days = ama.groupby('DAYS')['Amount'].sum().sort_values(ascending = False).reset_index()\n",
    "sns.barplot(data = days, x = 'DAYS', y = 'Amount' , hue = 'DAYS')\n",
    "plt.xticks(rotation = 90)\n",
    "plt.show()"
   ]
  },
  {
   "cell_type": "markdown",
   "id": "8624be78-8793-4367-9b5a-2b088a81b795",
   "metadata": {},
   "source": [
    "# most of the product are order on sunday "
   ]
  },
  {
   "cell_type": "code",
   "execution_count": 24,
   "id": "99dc943f-bb73-4454-9a26-6012cecd191c",
   "metadata": {},
   "outputs": [
    {
     "data": {
      "image/png": "[encoded data removed]",
      "text/plain": [
       "<Figure size 640x480 with 1 Axes>"
      ]
     },
     "metadata": {},
     "output_type": "display_data"
    }
   ],
   "source": [
    "months= ama.groupby('MONTHS')['Amount'].sum().sort_values(ascending = False).reset_index()\n",
    "sns.barplot(data = months, x = 'MONTHS', y = 'Amount' , hue = 'MONTHS')\n",
    "plt.xticks(rotation = 90)\n",
    "plt.show()"
   ]
  },
  {
   "cell_type": "markdown",
   "id": "daf6d826-94ec-450e-8e26-d00439454d6a",
   "metadata": {},
   "source": [
    "# most of order are placed in the month of -> APRIL"
   ]
  },
  {
   "cell_type": "code",
   "execution_count": 25,
   "id": "b18e65b2-a996-4480-9f17-f0da780b53b1",
   "metadata": {},
   "outputs": [
    {
     "data": {
      "text/plain": [
       "Text(0.5, 1.0, 'Available size')"
      ]
     },
     "execution_count": 25,
     "metadata": {},
     "output_type": "execute_result"
    },
    {
     "data": {
      "image/png": "[encoded data removed]",
      "text/plain": [
       "<Figure size 640x480 with 1 Axes>"
      ]
     },
     "metadata": {},
     "output_type": "display_data"
    }
   ],
   "source": [
    "# scatter plot\n",
    "x_data = ama['Category']\n",
    "y_data = ama['Size']\n",
    "plt.scatter(x_data , y_data)\n",
    "plt.xlabel('Category')\n",
    "plt.ylabel('Size')\n",
    "plt.title('Available size')"
   ]
  },
  {
   "cell_type": "markdown",
   "id": "15ed0673-89bf-49ff-b599-9626605f2d28",
   "metadata": {},
   "source": [
    "# conclusion"
   ]
  },
  {
   "cell_type": "markdown",
   "id": "92e2d159-cad0-4ddf-82cd-107a42b81415",
   "metadata": {},
   "source": []
  },
  {
   "cell_type": "markdown",
   "id": "380037f5-95fb-4d54-ab8e-a7c2f1fcc1ce",
   "metadata": {},
   "source": [
    "# from the give amazon data set \n",
    "## 1. most of the order are M size\n",
    "## 2. most of the customer are buy t-shirt.\n",
    "## 3. from graph most of order -> shipped are delivered to buyer\n",
    "## 4. most of customer product are shiped from bengaluru\n",
    "## 5. most of customer product are shiped from MAHARASHTRA\n",
    "## 6. most of the product are order on sunday\n",
    "## 7. most of order are placed in the month of -> APRIL"
   ]
  }
 ],
 "metadata": {
  "kernelspec": {
   "display_name": "Python 3 (ipykernel)",
   "language": "python",
   "name": "python3"
  },
  "language_info": {
   "codemirror_mode": {
    "name": "ipython",
    "version": 3
   },
   "file_extension": ".py",
   "mimetype": "text/x-python",
   "name": "python",
   "nbconvert_exporter": "python",
   "pygments_lexer": "ipython3",
   "version": "3.12.7"
  }
 },
 "nbformat": 4,
 "nbformat_minor": 5
}
